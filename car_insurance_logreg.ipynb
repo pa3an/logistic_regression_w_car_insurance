{
 "cells": [
  {
   "cell_type": "code",
   "execution_count": 43,
   "id": "21712a5e",
   "metadata": {},
   "outputs": [
    {
     "name": "stdout",
     "output_type": "stream",
     "text": [
      "10000\n"
     ]
    }
   ],
   "source": [
    "import pandas as pd\n",
    "\n",
    "car_insurance = pd.read_csv(datacamp/carinsurance/car_insurance.csv')\n",
    "car_insurance.head()\n",
    "car_insurance.dtypes\n",
    "\n",
    "# Get the number of rows using the shape attribute\n",
    "num_rows = car_insurance.shape[0]\n",
    "\n",
    "# Print the number of rows\n",
    "print(num_rows)"
   ]
  },
  {
   "cell_type": "code",
   "execution_count": 44,
   "id": "bacef58e",
   "metadata": {},
   "outputs": [
    {
     "name": "stdout",
     "output_type": "stream",
     "text": [
      "id                       0\n",
      "age                      0\n",
      "gender                   0\n",
      "driving_experience       0\n",
      "education                0\n",
      "income                   0\n",
      "credit_score           982\n",
      "vehicle_ownership        0\n",
      "vehicle_year             0\n",
      "married                  0\n",
      "children                 0\n",
      "postal_code              0\n",
      "annual_mileage         957\n",
      "vehicle_type             0\n",
      "speeding_violations      0\n",
      "duis                     0\n",
      "past_accidents           0\n",
      "outcome                  0\n",
      "dtype: int64\n"
     ]
    }
   ],
   "source": [
    "missing_values = car_insurance.isnull().sum()\n",
    "\n",
    "# Print the missing values count\n",
    "print(missing_values)"
   ]
  },
  {
   "cell_type": "code",
   "execution_count": 45,
   "id": "e2a434fc",
   "metadata": {},
   "outputs": [
    {
     "name": "stdout",
     "output_type": "stream",
     "text": [
      "0.5158128096027941\n",
      "11697.003206900365\n"
     ]
    }
   ],
   "source": [
    "# there are two columns with missing values (less than 10%)\n",
    "# instead of deleting them, I'll replace the missing values with the averages\n",
    "# first we calculate the means\n",
    "credit_score_mean = car_insurance['credit_score'].mean()\n",
    "annual_mileage_mean = car_insurance['annual_mileage'].mean()\n"
   ]
  },
  {
   "cell_type": "code",
   "execution_count": 46,
   "id": "11b830d8",
   "metadata": {},
   "outputs": [
    {
     "name": "stdout",
     "output_type": "stream",
     "text": [
      "0.5158128096027874\n",
      "11697.00320690015\n"
     ]
    }
   ],
   "source": [
    "# then we fill the missing values with the mean\n",
    "car_insurance['credit_score'].fillna(credit_score_mean, inplace=True)\n",
    "car_insurance['annual_mileage'].fillna(annual_mileage_mean, inplace=True)\n"
   ]
  },
  {
   "cell_type": "code",
   "execution_count": 56,
   "id": "1a63c3b6",
   "metadata": {
    "scrolled": true
   },
   "outputs": [
    {
     "data": {
      "text/plain": [
       "id                              int64\n",
       "age                             int64\n",
       "gender                          int64\n",
       "driving_experience             object\n",
       "education                      object\n",
       "income                         object\n",
       "credit_score                  float64\n",
       "vehicle_ownership             float64\n",
       "married                       float64\n",
       "children                      float64\n",
       "postal_code                     int64\n",
       "annual_mileage                float64\n",
       "speeding_violations             int64\n",
       "duis                            int64\n",
       "past_accidents                  int64\n",
       "outcome                       float64\n",
       "education_encoded               int64\n",
       "income_encoded                  int64\n",
       "driving_experience_encoded      int64\n",
       "vehicle_year_before 2015        uint8\n",
       "vehicle_type_sports car         uint8\n",
       "dtype: object"
      ]
     },
     "execution_count": 56,
     "metadata": {},
     "output_type": "execute_result"
    }
   ],
   "source": [
    "# let's check the datatypes\n",
    "# for ordinal and categorical variables, uncomment the line below\n",
    "#car_insurance['driving_experience'].unique()\n",
    "car_insurance.dtypes"
   ]
  },
  {
   "cell_type": "code",
   "execution_count": 48,
   "id": "563d22cb",
   "metadata": {},
   "outputs": [],
   "source": [
    "# import logistic regression libraries\n",
    "from sklearn.linear_model import LogisticRegression\n",
    "from sklearn.model_selection import train_test_split"
   ]
  },
  {
   "cell_type": "code",
   "execution_count": 49,
   "id": "aea3a77c",
   "metadata": {},
   "outputs": [],
   "source": [
    "#this is the preprocessing stage\n",
    "#map ordinal string variables\n",
    "\n",
    "ordinal_mapping = {\n",
    "    'education':{'none':0, 'high school':1, 'university':2},\n",
    "    'income':{'poverty':0, 'working class':1, 'middle class':2, 'upper class':3},\n",
    "    'driving_experience':{'0-9y':0, '10-19y':1, '20-29y':2, '30y+':3}\n",
    "}\n",
    "\n",
    "for variable, mapping in ordinal_mapping.items():\n",
    "    car_insurance[variable + '_encoded'] = car_insurance[variable].map(mapping)\n",
    "    \n",
    "# convert vehicle year and type to dummy variables\n",
    "\n",
    "car_insurance = pd.get_dummies(car_insurance, columns=['vehicle_year', 'vehicle_type'], drop_first = True)\n"
   ]
  },
  {
   "cell_type": "code",
   "execution_count": 50,
   "id": "93210517",
   "metadata": {},
   "outputs": [],
   "source": [
    "# define independent and dependent variables lists\n",
    "\n",
    "features = ['age', 'gender', 'driving_experience_encoded', 'education_encoded', 'income_encoded', 'credit_score', 'vehicle_ownership',\n",
    "            'married', 'children', 'postal_code', 'annual_mileage', 'vehicle_type_sports car', 'speeding_violations', 'duis',\n",
    "            'past_accidents', 'vehicle_year_before 2015']\n",
    "\n",
    "target = 'outcome'"
   ]
  },
  {
   "cell_type": "code",
   "execution_count": 51,
   "id": "5a77c7bd",
   "metadata": {},
   "outputs": [],
   "source": [
    "#split the dataset\n",
    "\n",
    "X_train, X_test, y_train, y_test = train_test_split(car_insurance[features], car_insurance[target], test_size=0.20, random_state=42)\n",
    "\n"
   ]
  },
  {
   "cell_type": "code",
   "execution_count": 52,
   "id": "2be59487",
   "metadata": {},
   "outputs": [
    {
     "data": {
      "text/plain": [
       "LogisticRegression()"
      ]
     },
     "execution_count": 52,
     "metadata": {},
     "output_type": "execute_result"
    }
   ],
   "source": [
    "# create and fit logisti regression model\n",
    "\n",
    "model = LogisticRegression()\n",
    "model.fit(X_train, y_train)"
   ]
  },
  {
   "cell_type": "code",
   "execution_count": 53,
   "id": "7fe1968c",
   "metadata": {},
   "outputs": [],
   "source": [
    "coefficients = pd.DataFrame({'Variable':features, 'Coefficient':model.coef_[0]})\n",
    "coefficients = coefficients.sort_values('Coefficient', key= abs, ascending = False)"
   ]
  },
  {
   "cell_type": "code",
   "execution_count": 54,
   "id": "b937a9b8",
   "metadata": {},
   "outputs": [
    {
     "name": "stdout",
     "output_type": "stream",
     "text": [
      "                      Variable  Coefficient\n",
      "2   driving_experience_encoded    -0.720794\n",
      "6            vehicle_ownership    -0.630416\n",
      "4               income_encoded    -0.495493\n",
      "1                       gender     0.476971\n",
      "15    vehicle_year_before 2015     0.467906\n",
      "0                          age    -0.402705\n",
      "14              past_accidents    -0.305538\n",
      "7                      married    -0.173997\n",
      "12         speeding_violations     0.127347\n",
      "8                     children    -0.103509\n",
      "13                        duis    -0.064639\n",
      "3            education_encoded    -0.052586\n",
      "5                 credit_score    -0.051554\n",
      "11     vehicle_type_sports car    -0.000282\n",
      "10              annual_mileage     0.000073\n",
      "9                  postal_code     0.000018\n"
     ]
    }
   ],
   "source": [
    "print(coefficients)"
   ]
  },
  {
   "cell_type": "code",
   "execution_count": null,
   "id": "01fd8c38",
   "metadata": {},
   "outputs": [],
   "source": []
  }
 ],
 "metadata": {
  "kernelspec": {
   "display_name": "Python 3 (ipykernel)",
   "language": "python",
   "name": "python3"
  },
  "language_info": {
   "codemirror_mode": {
    "name": "ipython",
    "version": 3
   },
   "file_extension": ".py",
   "mimetype": "text/x-python",
   "name": "python",
   "nbconvert_exporter": "python",
   "pygments_lexer": "ipython3",
   "version": "3.9.12"
  }
 },
 "nbformat": 4,
 "nbformat_minor": 5
}
